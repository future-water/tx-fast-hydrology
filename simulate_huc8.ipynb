{
 "cells": [
  {
   "cell_type": "code",
   "execution_count": 1,
   "id": "07a7ff61-52bb-4240-89cc-f4ee12a47be2",
   "metadata": {},
   "outputs": [],
   "source": [
    "import json\n",
    "import numpy as np\n",
    "import pandas as pd\n",
    "import matplotlib.pyplot as plt\n",
    "from tx_fast_hydrology.muskingum import Muskingum, ModelCollection\n",
    "from tx_fast_hydrology.simulation import AsyncSimulation\n",
    "import time"
   ]
  },
  {
   "cell_type": "markdown",
   "id": "f9f61ed4",
   "metadata": {},
   "source": [
    "Deal with ESRI's BS format"
   ]
  },
  {
   "cell_type": "code",
   "execution_count": 2,
   "id": "03d42e2f",
   "metadata": {},
   "outputs": [
    {
     "name": "stdout",
     "output_type": "stream",
     "text": [
      "Updated Esri-like JSON saved as 'updated_huc2_12_nhd.json'.\n"
     ]
    }
   ],
   "source": [
    "# Step 1: Load the Esri-like JSON\n",
    "with open(\"huc2_12_nhd.json\") as f:\n",
    "    esri_data = json.load(f)\n",
    "\n",
    "# Step 2: Load the standard GeoJSON from QGIS\n",
    "with open(\"huc2_12_nhd_lake.geojson\") as f:\n",
    "    lake_data = json.load(f)\n",
    "\n",
    "# Step 3: Add the 'Lake' attribute from the standard GeoJSON to the Esri-like JSON\n",
    "for esri_feature, lake_feature in zip(esri_data[\"features\"], lake_data[\"features\"]):\n",
    "    lake_value = lake_feature[\"properties\"][\"Lake\"]\n",
    "    esri_feature[\"attributes\"][\"Lake\"] = lake_value\n",
    "\n",
    "# Step 4: Save the updated Esri-like JSON\n",
    "with open(\"updated_huc2_12_nhd.json\", \"w\") as f:\n",
    "    json.dump(esri_data, f, indent=1)\n",
    "\n",
    "print(\"Updated Esri-like JSON saved as 'updated_huc2_12_nhd.json'.\")"
   ]
  },
  {
   "cell_type": "code",
   "execution_count": 3,
   "id": "fadf40ac",
   "metadata": {},
   "outputs": [],
   "source": [
    "with open(\"updated_huc2_12_nhd.json\") as basin:\n",
    "    d = json.load(basin)"
   ]
  },
  {
   "cell_type": "code",
   "execution_count": 54,
   "id": "f2acd6db-e97a-42d7-bf8a-cdf8853d2e8c",
   "metadata": {},
   "outputs": [],
   "source": [
    "# Entry nodes\n",
    "comids = [\n",
    "    1077861,\n",
    "    1109679,\n",
    "    # 1111403,           1111409,\n",
    "    1111417,\n",
    "    1113963,\n",
    "    1114297,\n",
    "    1114299,\n",
    "    1114345,\n",
    "    1143224,\n",
    "    1143312,\n",
    "    1143314,\n",
    "    1143316,\n",
    "    1158939,\n",
    "    1166519,\n",
    "    1260139,\n",
    "    1262665,\n",
    "    1262689,\n",
    "    1262851,\n",
    "    1262853,\n",
    "    1268222,\n",
    "    1279694,\n",
    "    1440413,\n",
    "    1454851,\n",
    "    # 1468432,\n",
    "    1468436,\n",
    "    # 1477691,            1477695,\n",
    "    1477697,\n",
    "    1484774,\n",
    "    1513293,\n",
    "    1515141,\n",
    "    1515205,\n",
    "    1523893,\n",
    "    1524321,\n",
    "    1524339,\n",
    "    1572612,\n",
    "    # 1576434,\n",
    "    1608986,\n",
    "    1612222,\n",
    "    1615800,\n",
    "    1619581,\n",
    "    1622685,\n",
    "    1637437,\n",
    "    1640223,  # 2572334,\n",
    "    3121538,\n",
    "    3123146,\n",
    "    3123804,\n",
    "    3125214,\n",
    "    3154801,\n",
    "    3168766,\n",
    "    3763134,\n",
    "    3766322,\n",
    "    3836435,\n",
    "    3838857,\n",
    "    4133089,\n",
    "    5275740,\n",
    "    5275810,\n",
    "    5275814,\n",
    "    5280888,\n",
    "    5494668,\n",
    "    5512484,\n",
    "    5513780,\n",
    "    5520002,\n",
    "    5522366,\n",
    "    # 5531602,\n",
    "    5541400,\n",
    "    5553609,\n",
    "    5558000,\n",
    "    5559368,\n",
    "    5559384,\n",
    "    5592244,\n",
    "    5592482,\n",
    "    5654670,\n",
    "    5683653,\n",
    "    5686225,\n",
    "    # 5702855,\n",
    "    5714875,\n",
    "    5719546,\n",
    "    5721363,\n",
    "    5726391,\n",
    "    5728811,\n",
    "    # 5735543,\n",
    "    5746002,\n",
    "    5746564,\n",
    "    5756826,  # 5757818,\n",
    "    5772131,\n",
    "    5779279,\n",
    "    # 5780387,\n",
    "    5790024,\n",
    "    7843181,\n",
    "    7865454,\n",
    "    8328606,\n",
    "    8328658,\n",
    "    9352003,\n",
    "    9354366,\n",
    "    9354378,\n",
    "    10629591,\n",
    "    10647715,\n",
    "    10647767,\n",
    "    10648457,\n",
    "    10661030,  # 10663428,\n",
    "    10664158,\n",
    "    10840558,\n",
    "    10891985,\n",
    "    10893317,\n",
    "    13700083,\n",
    "    13718551,\n",
    "    14023862,\n",
    "    14034489,\n",
    "    942110009,\n",
    "]"
   ]
  },
  {
   "cell_type": "code",
   "execution_count": null,
   "id": "0a27c3d8",
   "metadata": {},
   "outputs": [],
   "source": [
    "# Filter features in geojson where 'COMID' matches a value in comids and 'Lake' is not -9999\n",
    "features_with_lake = [\n",
    "    feature\n",
    "    for feature in d[\"features\"]\n",
    "    if str(feature[\"attributes\"][\"COMID\"]) in comids\n",
    "    and feature[\"attributes\"].get(\"Lake\", -9999) != -9999\n",
    "]\n",
    "\n",
    "# Extract the COMIDs of these features\n",
    "comids_with_lake = [feature[\"attributes\"][\"COMID\"] for feature in features_with_lake]\n",
    "\n",
    "print(f\"COMIDs with 'Lake' attribute not equal to -9999: {comids_with_lake}\")"
   ]
  },
  {
   "cell_type": "markdown",
   "id": "5c7d0d5d",
   "metadata": {},
   "source": [
    "#### Clean the geojson of the lakes"
   ]
  },
  {
   "cell_type": "code",
   "execution_count": 4,
   "id": "03d17e6e",
   "metadata": {},
   "outputs": [],
   "source": [
    "# Step 1: Build helper structures\n",
    "from collections import defaultdict\n",
    "\n",
    "streams_by_lake = defaultdict(list)\n",
    "to_id_map = {\n",
    "    stream[\"attributes\"][\"COMID\"]: stream[\"attributes\"][\"toCOMID\"] for stream in d[\"features\"]\n",
    "}\n",
    "\n",
    "# Group streams by lake\n",
    "for stream in d[\"features\"]:\n",
    "    lake_id = stream[\"attributes\"][\"Lake\"]\n",
    "    if lake_id != -9999:\n",
    "        streams_by_lake[lake_id].append(stream)\n",
    "\n",
    "# Step 2: Find outflow stream for each lake\n",
    "lake_outflows = {}\n",
    "for lake_id, streams in streams_by_lake.items():\n",
    "    outflow_candidates = {stream[\"attributes\"][\"COMID\"] for stream in streams}\n",
    "    for stream in streams:\n",
    "        if stream[\"attributes\"][\"toCOMID\"] not in outflow_candidates:\n",
    "            lake_outflows[lake_id] = stream[\"attributes\"][\"toCOMID\"]\n",
    "            break\n",
    "\n",
    "# Step 3: Redirect inflows to the lake outflow stream\n",
    "for lake_id, outflow_id in lake_outflows.items():\n",
    "    # Get all COMIDs of streams inside the lake\n",
    "    lake_comids = {stream[\"attributes\"][\"COMID\"] for stream in streams_by_lake[lake_id]}\n",
    "\n",
    "    # Redirect streams whose toCOMID points to any lake stream\n",
    "    for stream in d[\"features\"]:\n",
    "        if stream[\"attributes\"][\"toCOMID\"] in lake_comids:\n",
    "            stream[\"attributes\"][\"toCOMID\"] = outflow_id\n",
    "\n",
    "# Step 4: Remove lake-associated streams\n",
    "lakeless_features = [stream for stream in d[\"features\"] if stream[\"attributes\"][\"Lake\"] == -9999]"
   ]
  },
  {
   "cell_type": "code",
   "execution_count": 5,
   "id": "40e04458",
   "metadata": {},
   "outputs": [],
   "source": [
    "from copy import deepcopy\n",
    "\n",
    "d2 = deepcopy(d)\n",
    "\n",
    "d2[\"features\"] = lakeless_features\n",
    "output_file = \"modified_network.json\"\n",
    "\n",
    "with open(output_file, \"w\") as f:\n",
    "    json.dump(d2, f, indent=1)"
   ]
  },
  {
   "cell_type": "code",
   "execution_count": 6,
   "id": "8f451817-1091-4214-9efe-eb12541b95f9",
   "metadata": {},
   "outputs": [],
   "source": [
    "nhd_path = \"./modified_network.json\"\n",
    "with open(nhd_path) as basin:\n",
    "    d = json.load(basin)"
   ]
  },
  {
   "cell_type": "code",
   "execution_count": 7,
   "id": "eb920286",
   "metadata": {},
   "outputs": [],
   "source": [
    "# Exit nodes\n",
    "comids = [\n",
    "    1077643,\n",
    "    1078881,\n",
    "    1078897,  # 1111369,\n",
    "    1160745,  # new outfall\n",
    "    1113965,\n",
    "    1142744,\n",
    "    1143298,\n",
    "    1145428,\n",
    "    1158941,\n",
    "    1160619,\n",
    "    1160719,\n",
    "    1166607,\n",
    "    1166621,\n",
    "    1262851,\n",
    "    1262905,\n",
    "    1264655,\n",
    "    1269780,\n",
    "    1279648,\n",
    "    1287711,\n",
    "    1294198,\n",
    "    1300456,\n",
    "    1300458,  # 1306945,\n",
    "    1268222,  # new outfall added\n",
    "    1448010,\n",
    "    1456323,\n",
    "    1456345,  # 1468426,\n",
    "    # 1468428,   1469612,\n",
    "    1440413,  # new outfall added\n",
    "    1475693,\n",
    "    1475695,\n",
    "    1475697,\n",
    "    1477505,\n",
    "    1479839,\n",
    "    1494050,\n",
    "    1508325,\n",
    "    1515205,\n",
    "    1515213,\n",
    "    1515495,\n",
    "    1523581,\n",
    "    1523627,\n",
    "    1572614,\n",
    "    1572640,\n",
    "    1576430,\n",
    "    1609042,\n",
    "    1612200,\n",
    "    1615408,\n",
    "    1623367,\n",
    "    1623369,\n",
    "    1632017,\n",
    "    1640215,\n",
    "    # 2572328,\n",
    "    2572084,  # new outfall added\n",
    "    2572780,\n",
    "    3123150,\n",
    "    3123710,\n",
    "    3154805,\n",
    "    # 3589578,\n",
    "    1619581,  # new outfall added\n",
    "    3766328,\n",
    "    4133145,\n",
    "    5256723,\n",
    "    5256725,\n",
    "    5275764,\n",
    "    5280902,\n",
    "    5293763,\n",
    "    5487027,\n",
    "    5499448,\n",
    "    5499450,\n",
    "    5507108,\n",
    "    5514790,\n",
    "    5514792,\n",
    "    5521348,\n",
    "    5523992,\n",
    "    5525867,  # 5531596, 5531600,\n",
    "    5523882,  # new outfall added\n",
    "    5544034,\n",
    "    5559336,\n",
    "    5559442,\n",
    "    5570839,\n",
    "    5579047,\n",
    "    5588526,\n",
    "    5593582,\n",
    "    5635929,\n",
    "    5651989,\n",
    "    5652493,\n",
    "    5656548,\n",
    "    5671495,\n",
    "    5690898,\n",
    "    5702833,\n",
    "    # 5702865,\n",
    "    5702763,  # new outfall added between two lakes\n",
    "    5712877,\n",
    "    5714893,\n",
    "    5714895,\n",
    "    5715109,\n",
    "    5718726,\n",
    "    5722367,\n",
    "    5722371,\n",
    "    5729263,  # 5735553,\n",
    "    5738437,  # new outfall added\n",
    "    5737005,\n",
    "    5746014,\n",
    "    5746512,\n",
    "    5746592,\n",
    "    5754392,  # 5757862,\n",
    "    5779279,  # new outfall added\n",
    "    5762659,\n",
    "    5765169,\n",
    "    5771837,\n",
    "    # 5780397,\n",
    "    5781161,  # new large outfall added\n",
    "    5789878,\n",
    "    5791934,\n",
    "    7847707,\n",
    "    7852413,\n",
    "    7872307,\n",
    "    7876612,\n",
    "    8333590,\n",
    "    8333624,\n",
    "    9351055,\n",
    "    9351103,\n",
    "    9354358,\n",
    "    9354366,\n",
    "    9357548,  # 9535873,\n",
    "    8328658,  # new outfall added\n",
    "    9535875,\n",
    "    10624041,\n",
    "    10630401,\n",
    "    10631455,\n",
    "    10648495,\n",
    "    10648627,\n",
    "    10657909,\n",
    "    10657911,\n",
    "    10661028,\n",
    "    10664258,\n",
    "    10671447,\n",
    "    10828988,\n",
    "    10836114,\n",
    "    10840560,\n",
    "    10840568,\n",
    "    13494837,\n",
    "    13514834,\n",
    "    13681329,\n",
    "    13700659,\n",
    "    14034073,\n",
    "    14034081,\n",
    "    14034505,\n",
    "    942110011,\n",
    "]"
   ]
  },
  {
   "cell_type": "code",
   "execution_count": 8,
   "id": "048de89c-045a-49fa-8d46-1f11ba18c211",
   "metadata": {},
   "outputs": [],
   "source": [
    "# comids = [str(comid) for comid in comids]\n",
    "link_ids = [i[\"attributes\"][\"COMID\"] for i in d[\"features\"]]\n",
    "reach_ids = link_ids\n",
    "reach_ids = [int(x) for x in reach_ids]\n",
    "site_indices = {idx: reach_ids.index(idx) for idx in sorted(comids)}"
   ]
  },
  {
   "cell_type": "code",
   "execution_count": 9,
   "id": "a0939dd0-b235-4cf9-b2ba-5da0eea5e496",
   "metadata": {},
   "outputs": [],
   "source": [
    "n_steps = 18"
   ]
  },
  {
   "cell_type": "code",
   "execution_count": null,
   "id": "1ac8b05c-13f0-4f08-b58d-8a61f86837a9",
   "metadata": {},
   "outputs": [],
   "source": [
    "model = Muskingum.from_nhd_geojson(output_file, create_state_space=False, sparse=True)"
   ]
  },
  {
   "cell_type": "code",
   "execution_count": 8,
   "id": "f2c292ad-1dd3-4e26-a3a3-c4a873d044e0",
   "metadata": {},
   "outputs": [],
   "source": [
    "model.K[:] = 3600.0\n",
    "model.X[:] = 0.29\n",
    "model.compute_muskingum_coeffs()"
   ]
  },
  {
   "cell_type": "code",
   "execution_count": 11,
   "id": "36130f9e-9b23-433a-a32a-c6094b41d564",
   "metadata": {},
   "outputs": [],
   "source": [
    "date_range = pd.date_range(start=\"20240101\", periods=n_steps, freq=\"1h\", tz=\"utc\")\n",
    "p_t = pd.DataFrame(0.0 * np.ones((n_steps, model.n)), index=date_range)\n",
    "p_t.columns = model.reach_ids"
   ]
  },
  {
   "cell_type": "code",
   "execution_count": 10,
   "id": "0d0b587e-b2e5-457d-9a36-eed1364ddcbb",
   "metadata": {},
   "outputs": [],
   "source": [
    "model.datetime = p_t.index[0] - pd.to_timedelta(\"1h\")\n",
    "model.save_state()"
   ]
  },
  {
   "cell_type": "markdown",
   "id": "432da833-40fb-45e1-8075-aaacdc14d91d",
   "metadata": {},
   "source": [
    "# Run single-basin model"
   ]
  },
  {
   "cell_type": "code",
   "execution_count": null,
   "id": "22083729-02f6-4ced-a77e-932ef9de5c0b",
   "metadata": {},
   "outputs": [],
   "source": [
    "fig, ax = plt.subplots()\n",
    "\n",
    "model.plot(ax=ax, c=\"b\")"
   ]
  },
  {
   "cell_type": "code",
   "execution_count": 12,
   "id": "1c3a4291-2611-4d7b-899c-b17316f70a9d",
   "metadata": {},
   "outputs": [],
   "source": [
    "t1 = time.time()\n",
    "model.init_states(o_t_next=np.ones(model.n))\n",
    "\n",
    "outputs = {}\n",
    "outputs[model.datetime] = model.o_t_next\n",
    "\n",
    "for state in model.simulate_iter(p_t):\n",
    "    o_t_next = state.o_t_next\n",
    "    outputs[state.datetime] = o_t_next\n",
    "ref_outputs = pd.DataFrame.from_dict(outputs, orient=\"index\")\n",
    "ref_outputs.columns = model.reach_ids\n",
    "ref_outputs.index = pd.to_datetime(ref_outputs.index, utc=True)\n",
    "t2 = time.time()"
   ]
  },
  {
   "cell_type": "code",
   "execution_count": null,
   "id": "cc597c18-7bcf-4c19-a42b-954293eb0d47",
   "metadata": {},
   "outputs": [],
   "source": [
    "print(f\"Time elapsed: {t2 - t1}s\")"
   ]
  },
  {
   "cell_type": "code",
   "execution_count": null,
   "id": "3fd6c05f-110c-4a4d-bb6c-c878335085fc",
   "metadata": {},
   "outputs": [],
   "source": [
    "_ = plt.plot(ref_outputs.values)\n",
    "plt.ylabel(\"Discharge (cms)\")\n",
    "plt.xlabel(\"Time (h)\")\n",
    "plt.title(\"Original model\")"
   ]
  },
  {
   "cell_type": "markdown",
   "id": "eed2ab9d-19d5-49f2-92dd-50f54a7d8fd5",
   "metadata": {},
   "source": [
    "# Run multi-basin model"
   ]
  },
  {
   "cell_type": "code",
   "execution_count": 12,
   "id": "8cac97f4-ff6e-4a2e-af35-e99b5f2541d9",
   "metadata": {},
   "outputs": [],
   "source": [
    "# Reset model\n",
    "model = Muskingum.from_nhd_geojson(\"modified_network.json\", create_state_space=False, sparse=True)\n",
    "model.datetime = p_t.index[0] - pd.to_timedelta(\"1h\")\n",
    "model.init_states(o_t_next=np.ones(model.n))\n",
    "model.save_state()"
   ]
  },
  {
   "cell_type": "code",
   "execution_count": 13,
   "id": "9e63aca7-f3ac-4e1b-a754-63e71a959baf",
   "metadata": {},
   "outputs": [],
   "source": [
    "ix = np.asarray(list(site_indices.values()), dtype=int)\n",
    "ix.sort()"
   ]
  },
  {
   "cell_type": "code",
   "execution_count": 14,
   "id": "f4f5eded-6811-4ba7-81af-95c23d19fdb1",
   "metadata": {},
   "outputs": [],
   "source": [
    "model_collection = model.split(ix, create_state_space=False)"
   ]
  },
  {
   "cell_type": "code",
   "execution_count": 15,
   "id": "7db79d4a-a1eb-484e-a2a1-ab4c230ed590",
   "metadata": {},
   "outputs": [
    {
     "data": {
      "image/png": "[encoded data removed]",
      "text/plain": [
       "<Figure size 640x480 with 1 Axes>"
      ]
     },
     "metadata": {},
     "output_type": "display_data"
    }
   ],
   "source": [
    "fig, ax = plt.subplots()\n",
    "\n",
    "for index, model in model_collection.models.items():\n",
    "    c = f\"#{np.random.randint(0, 0xFFFFFF):06x}\"\n",
    "    model.plot(ax=ax, c=c)"
   ]
  },
  {
   "cell_type": "code",
   "execution_count": 19,
   "id": "52acd790-e1f6-4026-9def-7aa0b6e7dd5c",
   "metadata": {},
   "outputs": [],
   "source": [
    "simulation = AsyncSimulation(model_collection, p_t)"
   ]
  },
  {
   "cell_type": "code",
   "execution_count": 20,
   "id": "990aa32d-245c-4bdd-80c4-4cd83df9ba74",
   "metadata": {},
   "outputs": [],
   "source": [
    "t1 = time.time()\n",
    "multi_outputs = await simulation.simulate()\n",
    "t2 = time.time()"
   ]
  },
  {
   "cell_type": "code",
   "execution_count": 21,
   "id": "a5f9db39-102e-4989-888a-76e764277c2f",
   "metadata": {},
   "outputs": [],
   "source": [
    "simulation.load_states()"
   ]
  },
  {
   "cell_type": "code",
   "execution_count": null,
   "id": "5714e81a-75a1-4a19-a93a-3c931a19714d",
   "metadata": {},
   "outputs": [],
   "source": [
    "print(f\"Time elapsed: {t2 - t1}s\")"
   ]
  },
  {
   "cell_type": "code",
   "execution_count": 23,
   "id": "33b8a097-467f-413a-9cf8-326b1a2ac29d",
   "metadata": {},
   "outputs": [],
   "source": [
    "final_outputs = pd.concat([output for output in multi_outputs.values()], axis=1)\n",
    "final_outputs = final_outputs[ref_outputs.columns]\n",
    "diff = ref_outputs - final_outputs"
   ]
  },
  {
   "cell_type": "code",
   "execution_count": null,
   "id": "59a7a955-b5de-40b8-a319-d28b0709de10",
   "metadata": {
    "scrolled": true
   },
   "outputs": [],
   "source": [
    "_ = plt.plot(final_outputs.values)\n",
    "plt.ylabel(\"Discharge (cms)\")\n",
    "plt.xlabel(\"Time (h)\")\n",
    "plt.title(\"Partitioned model\")"
   ]
  },
  {
   "cell_type": "code",
   "execution_count": null,
   "id": "93aa2c42-7375-4d3e-b41c-822267666658",
   "metadata": {},
   "outputs": [],
   "source": [
    "_ = plt.plot(diff.values)\n",
    "plt.ylabel(\"Difference in discharge (cms)\")\n",
    "plt.xlabel(\"Time (h)\")\n",
    "plt.title(\"Difference between original and partitioned models\")"
   ]
  },
  {
   "cell_type": "code",
   "execution_count": 16,
   "id": "5d5b91c7-8891-4175-82bd-4b47f405d0ee",
   "metadata": {},
   "outputs": [],
   "source": [
    "model_collection.dump_model_collection(\"./huc8_no_lake.json\")"
   ]
  },
  {
   "cell_type": "code",
   "execution_count": 17,
   "id": "7c47d653-2b06-457d-9159-beb60de52cd7",
   "metadata": {},
   "outputs": [],
   "source": [
    "model_collection = ModelCollection.from_file(\"./huc8_no_lake.json\")"
   ]
  },
  {
   "cell_type": "code",
   "execution_count": 28,
   "id": "fe91bc68-d2c4-4862-91a1-5f3a6f839679",
   "metadata": {},
   "outputs": [],
   "source": [
    "simulation = AsyncSimulation(model_collection, p_t)"
   ]
  },
  {
   "cell_type": "code",
   "execution_count": 29,
   "id": "fef247fd",
   "metadata": {},
   "outputs": [],
   "source": [
    "t1 = time.time()\n",
    "multi_outputs = await simulation.simulate()\n",
    "t2 = time.time()"
   ]
  },
  {
   "cell_type": "code",
   "execution_count": 30,
   "id": "dd06ed4d",
   "metadata": {},
   "outputs": [],
   "source": [
    "simulation.load_states()"
   ]
  },
  {
   "cell_type": "code",
   "execution_count": 31,
   "id": "33b8a097-467f-413a-9cf8-326b1a2ac29d",
   "metadata": {},
   "outputs": [],
   "source": [
    "final_outputs = pd.concat([output for output in multi_outputs.values()], axis=1)\n",
    "final_outputs = final_outputs[ref_outputs.columns]\n",
    "diff = ref_outputs - final_outputs"
   ]
  },
  {
   "cell_type": "code",
   "execution_count": null,
   "id": "59a7a955-b5de-40b8-a319-d28b0709de10",
   "metadata": {
    "scrolled": true
   },
   "outputs": [],
   "source": [
    "_ = plt.plot(final_outputs.values)\n",
    "plt.ylabel(\"Discharge (cms)\")\n",
    "plt.xlabel(\"Time (h)\")\n",
    "plt.title(\"Partitioned model\")"
   ]
  },
  {
   "cell_type": "code",
   "execution_count": null,
   "id": "93aa2c42-7375-4d3e-b41c-822267666658",
   "metadata": {},
   "outputs": [],
   "source": [
    "_ = plt.plot(diff.values)\n",
    "plt.ylabel(\"Difference in discharge (cms)\")\n",
    "plt.xlabel(\"Time (h)\")\n",
    "plt.title(\"Difference between original and partitioned models\")"
   ]
  },
  {
   "cell_type": "code",
   "execution_count": null,
   "id": "f9414c78-8a70-4bdc-8501-ecc6a880ab35",
   "metadata": {},
   "outputs": [],
   "source": []
  }
 ],
 "metadata": {
  "kernelspec": {
   "display_name": "venv311",
   "language": "python",
   "name": "python3"
  },
  "language_info": {
   "codemirror_mode": {
    "name": "ipython",
    "version": 3
   },
   "file_extension": ".py",
   "mimetype": "text/x-python",
   "name": "python",
   "nbconvert_exporter": "python",
   "pygments_lexer": "ipython3",
   "version": "3.11.10"
  }
 },
 "nbformat": 4,
 "nbformat_minor": 5
}
